{
 "metadata": {
  "kernelspec": {
   "display_name": "Python 2",
   "language": "python",
   "name": "python2"
  },
  "language_info": {
   "codemirror_mode": {
    "name": "ipython",
    "version": 2
   },
   "file_extension": ".py",
   "mimetype": "text/x-python",
   "name": "python",
   "nbconvert_exporter": "python",
   "pygments_lexer": "ipython2",
   "version": "2.7.6"
  },
  "name": "",
  "signature": "sha256:592718da8819207cbebce463a077201f1c41fa95e663a166ae49080d2ed31710"
 },
 "nbformat": 3,
 "nbformat_minor": 0,
 "worksheets": [
  {
   "cells": [
    {
     "cell_type": "code",
     "collapsed": true,
     "input": [
      "import utils\n",
      "import matplotlib.pyplot as plt\n",
      "import sklearn.svm\n",
      "\n",
      "MNIST_WATERLINE = 60000\n",
      "\n",
      "DIGITS = [0, 1, 2, 3, 4, 5]\n",
      "FILTERED_TRAIN_DATA = 3000\n",
      "FILTERED_TEST_DATA = 2000\n",
      "\n",
      "grapher = utils.Grapher()\n",
      "mnist_data = utils.MinstDataManager()\n",
      "mnist_data.prepare_mnist_data('./mnist')\n",
      "\n",
      "# x_train, y_train = utils.filter_by_digits(mnist_data.x_train, mnist_data.y_train, DIGITS, FILTERED_TRAIN_DATA)\n",
      "# x_test, y_test = utils.filter_by_digits(mnist_data.x_test, mnist_data.y_test, DIGITS, FILTERED_TEST_DATA)\n",
      "\n",
      "\n",
      "def plot_distributions():\n",
      "    grapher.plot_distribution(y_train, name='y_train distribution')\n",
      "    grapher.plot_distribution(y_test, name='y_test distribution')\n",
      "    grapher.show()\n",
      "\n",
      "\n",
      "print('Starting...\\n')\n",
      "model = sklearn.svm.SVC(\n",
      "    kernel='poly',  # 'linear', 'poly', 'rbf', 'sigmoid', 'precomputed'\n",
      "    degree=2,\n",
      "    coef0=0.0,  # Independent term in kernel function. It is only significant in 'poly' and 'sigmoid'.\n",
      "    tol=0.003,\n",
      "    # gamma=0.0001,\n",
      "    # cache_size=500,\n",
      "    # shrinking=True,\n",
      "    verbose=False,\n",
      "    # max_iter=-1,\n",
      "    decision_function_shape='ovr',  # 'ovo', 'ovr',\n",
      ")\n",
      "\n",
      "\n",
      "x_train, y_train = mnist_data.x_train, mnist_data.y_train\n",
      "\n",
      "grapher.visualize(x_train[0], title='before deskewing')\n",
      "x_train = utils.deskewAll(x_train)\n",
      "grapher.visualize(x_train[0], title='after deskewing')\n",
      "\n",
      "model.fit(x_train, y_train)\n",
      "train_score = model.score(x_train, y_train)\n",
      "print('Accuracy on the train data:' + str(train_score))\n",
      "\n",
      "\n",
      "x_test, y_test = mnist_data.x_test_mnist, mnist_data.y_test_mnist\n",
      "x_test = utils.deskewAll(x_test)\n",
      "test_score = model.score(x_test, y_test)\n",
      "print('Accuracy on the mnist original test data:' + str(test_score))\n",
      "\n",
      "grapher.show()\n"
     ],
     "language": "python",
     "metadata": {},
     "outputs": [
      {
       "output_type": "stream",
       "stream": "stdout",
       "text": [
        "Starting...\n",
        "\n",
        "Accuracy on the train data:1.0"
       ]
      },
      {
       "output_type": "stream",
       "stream": "stdout",
       "text": [
        "\n",
        "Accuracy on the mnist original test data:0.9853"
       ]
      },
      {
       "output_type": "stream",
       "stream": "stdout",
       "text": [
        "\n"
       ]
      }
     ],
     "prompt_number": 1
    },
    {
     "cell_type": "code",
     "collapsed": false,
     "input": [],
     "language": "python",
     "metadata": {},
     "outputs": []
    }
   ],
   "metadata": {}
  }
 ]
}