{
 "cells": [
  {
   "cell_type": "code",
   "execution_count": 1,
   "metadata": {
    "collapsed": true
   },
   "outputs": [
    {
     "name": "stdout",
     "output_type": "stream",
     "text": [
      "\nNumber of elements for each class (train data):\n{2.0: 47, 3.0: 43, 1.0: 45}\n\nNumber of elements for each class (test data):\n{1.0: 5, 2.0: 3, 3.0: 7}\n\n\n"
     ]
    },
    {
     "name": "stdout",
     "output_type": "stream",
     "text": [
      "Percent of errors with k= 1  :  3.9999999999999996 %\n"
     ]
    },
    {
     "name": "stdout",
     "output_type": "stream",
     "text": [
      "Percent of errors with k= 2  :  3.9999999999999996 %\n"
     ]
    },
    {
     "name": "stdout",
     "output_type": "stream",
     "text": [
      "Percent of errors with k= 3  :  3.9999999999999996 %\n"
     ]
    },
    {
     "name": "stdout",
     "output_type": "stream",
     "text": [
      "Percent of errors with k= 4  :  3.9999999999999996 %\n"
     ]
    },
    {
     "name": "stdout",
     "output_type": "stream",
     "text": [
      "Percent of errors with k= 5  :  2.6666666666666665 %\n"
     ]
    },
    {
     "name": "stdout",
     "output_type": "stream",
     "text": [
      "Percent of errors with k= 6  :  3.3333333333333335 %\n"
     ]
    },
    {
     "name": "stdout",
     "output_type": "stream",
     "text": [
      "Percent of errors with k= 7  :  2.6666666666666665 %\n"
     ]
    },
    {
     "name": "stdout",
     "output_type": "stream",
     "text": [
      "Percent of errors with k= 8  :  2.6666666666666665 %\n"
     ]
    },
    {
     "name": "stdout",
     "output_type": "stream",
     "text": [
      "Percent of errors with k= 9  :  4.0 %\nPercent of errors with k= 10  :  4.0 %\n"
     ]
    },
    {
     "name": "stdout",
     "output_type": "stream",
     "text": [
      "Percent of errors with k= 11  :  3.333333333333334 %\nPercent of errors with k= 12  :  2.6666666666666665 %\n"
     ]
    },
    {
     "name": "stdout",
     "output_type": "stream",
     "text": [
      "Percent of errors with k= 13  :  3.3333333333333335 %\n"
     ]
    },
    {
     "name": "stdout",
     "output_type": "stream",
     "text": [
      "Percent of errors with k= 14  :  2.6666666666666665 %\n"
     ]
    },
    {
     "name": "stdout",
     "output_type": "stream",
     "text": [
      "Percent of errors with k= 15  :  3.333333333333334 %\n"
     ]
    },
    {
     "name": "stdout",
     "output_type": "stream",
     "text": [
      "Percent of errors with k= 16  :  3.333333333333334 %\n"
     ]
    },
    {
     "name": "stdout",
     "output_type": "stream",
     "text": [
      "Percent of errors with k= 17  :  3.333333333333334 %\nPercent of errors with k= 18  :  2.6666666666666665 %\n"
     ]
    },
    {
     "name": "stdout",
     "output_type": "stream",
     "text": [
      "Percent of errors with k= 19  :  2.0 %\n"
     ]
    },
    {
     "name": "stdout",
     "output_type": "stream",
     "text": [
      "Percent of errors with k= 20  :  2.6666666666666665 %\n"
     ]
    },
    {
     "name": "stdout",
     "output_type": "stream",
     "text": [
      "Percent of errors with k= 21  :  3.333333333333334 %\n"
     ]
    },
    {
     "name": "stdout",
     "output_type": "stream",
     "text": [
      "Percent of errors with k= 22  :  4.666666666666667 %\n"
     ]
    },
    {
     "name": "stdout",
     "output_type": "stream",
     "text": [
      "Percent of errors with k= 23  :  4.0 %\n"
     ]
    },
    {
     "name": "stdout",
     "output_type": "stream",
     "text": [
      "Percent of errors with k= 24  :  4.666666666666667 %\n"
     ]
    },
    {
     "name": "stdout",
     "output_type": "stream",
     "text": [
      "Percent of errors with k= 25  :  4.0 %\n"
     ]
    },
    {
     "name": "stdout",
     "output_type": "stream",
     "text": [
      "Percent of errors with k= 26  :  2.6666666666666665 %\n"
     ]
    },
    {
     "name": "stdout",
     "output_type": "stream",
     "text": [
      "Percent of errors with k= 27  :  5.333333333333333 %\n"
     ]
    },
    {
     "name": "stdout",
     "output_type": "stream",
     "text": [
      "Percent of errors with k= 28  :  4.666666666666667 %\n"
     ]
    },
    {
     "name": "stdout",
     "output_type": "stream",
     "text": [
      "Percent of errors with k= 29  :  4.666666666666667 %\n"
     ]
    },
    {
     "name": "stdout",
     "output_type": "stream",
     "text": [
      "Percent of errors with k= 30  :  4.666666666666667 %\nPercent of errors with k= 31  :  4.666666666666667 %\n"
     ]
    },
    {
     "name": "stdout",
     "output_type": "stream",
     "text": [
      "Percent of errors with k= 32  :  4.666666666666667 %\nPercent of errors with k= 33  :  4.666666666666667 %\n"
     ]
    },
    {
     "name": "stdout",
     "output_type": "stream",
     "text": [
      "Percent of errors with k= 34  :  4.0 %\nPercent of errors with k= 35  :  4.666666666666667 %\n"
     ]
    },
    {
     "name": "stdout",
     "output_type": "stream",
     "text": [
      "Percent of errors with k= 36  :  4.0 %\nPercent of errors with k= 37  : "
     ]
    },
    {
     "name": "stdout",
     "output_type": "stream",
     "text": [
      " 4.666666666666667 %\n"
     ]
    },
    {
     "name": "stdout",
     "output_type": "stream",
     "text": [
      "Percent of errors with k= 38  :  5.333333333333333 %\n"
     ]
    },
    {
     "name": "stdout",
     "output_type": "stream",
     "text": [
      "Percent of errors with k= 39  :  3.9999999999999996 %\nPercent of errors with k= 40  :  3.9999999999999996 %\n"
     ]
    },
    {
     "name": "stdout",
     "output_type": "stream",
     "text": [
      "Percent of errors with k= 41  :  3.9999999999999996 %\nPercent of errors with k= 42  :  4.666666666666667 %\n"
     ]
    },
    {
     "name": "stdout",
     "output_type": "stream",
     "text": [
      "Percent of errors with k= 43  :  3.9999999999999996 %\n"
     ]
    },
    {
     "name": "stdout",
     "output_type": "stream",
     "text": [
      "Percent of errors with k= 44  :  3.9999999999999996 %\nPercent of errors with k= 45  :  4.666666666666667 %\n"
     ]
    },
    {
     "name": "stdout",
     "output_type": "stream",
     "text": [
      "Percent of errors with k= 46  :  3.9999999999999996 %\nPercent of errors with k= 47  :  6.0 %\n"
     ]
    },
    {
     "name": "stdout",
     "output_type": "stream",
     "text": [
      "Percent of errors with k= 48  :  5.333333333333333 %\n"
     ]
    },
    {
     "name": "stdout",
     "output_type": "stream",
     "text": [
      "Percent of errors with k= 49  :  6.0 %\n\nBest k =  19\n\nPercent of error with the best k on test set :  0.0 %\n"
     ]
    },
    {
     "data": {
      "image/png": "[encoded data removed]",
      "text/plain": [
       "<matplotlib.figure.Figure at 0x1064e9550>"
      ]
     },
     "metadata": {},
     "output_type": "display_data"
    }
   ],
   "source": [
    "import math\n",
    "import numpy as np\n",
    "import matplotlib.pyplot as plt\n",
    "\n",
    "\n",
    "def get_iris_class(name):\n",
    "    if name == 'Iris-setosa':\n",
    "        return 1.0\n",
    "    elif name == 'Iris-versicolor':\n",
    "        return 2.0\n",
    "    elif name == 'Iris-virginica':\n",
    "        return 3.0\n",
    "    print(name)\n",
    "    raise NameError('incorrect iris')\n",
    "\n",
    "\n",
    "def get_data(address, shuffle=True):\n",
    "    s = []\n",
    "    with open(address) as file:\n",
    "        for line in file:\n",
    "            parts = line.split(\",\")\n",
    "            if len(parts) > 4:\n",
    "                last = parts[-1].strip()\n",
    "                parts[-1] = get_iris_class(last)\n",
    "                s.append([float(x) for x in parts])\n",
    "    if shuffle:\n",
    "        np.random.shuffle(s)\n",
    "    return s\n",
    "\n",
    "\n",
    "def split_data(samples, rate=0.9):\n",
    "    train_num = int(len(samples)*rate)\n",
    "    return samples[:train_num], samples[train_num:]\n",
    "\n",
    "\n",
    "def get_class_counters(samples):\n",
    "    counters = {}\n",
    "    for s in samples:\n",
    "        if s[-1] in counters:\n",
    "            counters[s[-1]] += 1\n",
    "        else:\n",
    "            counters[s[-1]] = 1\n",
    "    return counters\n",
    "\n",
    "\n",
    "def get_neighbors_class(neighbors):\n",
    "    counters = get_class_counters(neighbors)\n",
    "    max_value = 0\n",
    "    cur_key = None\n",
    "    for key, value in counters.items():\n",
    "        if value > max_value:\n",
    "            max_value = value\n",
    "            cur_key = key\n",
    "    return cur_key\n",
    "\n",
    "\n",
    "def euclidean_distance(x1, x2):\n",
    "    distance = 0\n",
    "    length = len(x1)\n",
    "    for i in range(0, length, 1):\n",
    "        try:\n",
    "            distance += pow((x1[i] - x2[i]), 2)\n",
    "        except TypeError:\n",
    "            print(x1[i])\n",
    "    return math.sqrt(distance)\n",
    "\n",
    "\n",
    "def get_neighbors(samples, test, k):\n",
    "    distances = []\n",
    "\n",
    "    for s in samples:\n",
    "        dist = euclidean_distance(test[:-1], s[:-1])\n",
    "        distances.append((dist, s[-1]))\n",
    "    distances.sort(key=lambda el: el[0])\n",
    "    neighbors = []\n",
    "    for x in range(k):\n",
    "        neighbors.append(distances[x])\n",
    "    return neighbors\n",
    "\n",
    "\n",
    "def cross_validation_split(data, n_folds):\n",
    "    folds_data = list()\n",
    "    fold_length = math.ceil(len(data)/n_folds)\n",
    "    for i in range(0, n_folds):\n",
    "        folds_data.append(data[fold_length*i: fold_length*(i + 1)])\n",
    "    return folds_data\n",
    "\n",
    "\n",
    "def split_fold_data(folds, i):\n",
    "    test_fold = folds[i]\n",
    "    train_fold = []\n",
    "    for j in range(0, len(folds)):\n",
    "        if i != j:\n",
    "            train_fold = train_fold + folds[j]\n",
    "    return train_fold, test_fold\n",
    "\n",
    "\n",
    "def predict(train_fold, test_fold, k):\n",
    "    predict_list = []\n",
    "    for t in test_fold:\n",
    "        neighbors = get_neighbors(train_fold, t, k)\n",
    "        predict_list.append(get_neighbors_class(neighbors))\n",
    "    return predict_list\n",
    "\n",
    "\n",
    "def get_errors(test, predict):\n",
    "    errors = 0.0\n",
    "    for i in range(0, len(test)):\n",
    "        if test[i][-1] != predict[i]:\n",
    "            errors += 1.0\n",
    "    return errors\n",
    "\n",
    "\n",
    "def run_cross_validation(samples, k, n_folds=10):\n",
    "    folds = cross_validation_split(samples, n_folds)\n",
    "    accuracy = 0\n",
    "    for i in range(0, len(folds)):\n",
    "        train_fold, test_fold = split_fold_data(folds, i)\n",
    "        predict_list = predict(train_fold, test_fold, k)\n",
    "        errors = get_errors(test_fold, predict_list)\n",
    "        accuracy = accuracy + errors/len(test_fold)\n",
    "    accuracy = accuracy/n_folds\n",
    "    print('Percent of errors with k=', str(k), ' : ', accuracy * 100, '%')\n",
    "    return accuracy\n",
    "\n",
    "\n",
    "def main():\n",
    "    samples = get_data(\"./data/iris.data.txt\")\n",
    "    train, test = split_data(samples)\n",
    "\n",
    "    print('\\nNumber of elements for each class (train data):')\n",
    "    print(get_class_counters(train))\n",
    "    print('\\nNumber of elements for each class (test data):')\n",
    "    print(get_class_counters(test))\n",
    "    print('\\n')\n",
    "\n",
    "    validation_results = []\n",
    "    for k in range(1, 50, 1):\n",
    "        error = run_cross_validation(samples, k, 15)\n",
    "        validation_results.append((k, error))\n",
    "\n",
    "    plt.figure(0)\n",
    "    plt.plot([x[1]*100 for x in validation_results])\n",
    "    plt.ylabel('Percent of error')\n",
    "    plt.xlabel('k')\n",
    "    # plt.xticks(range(1, 51, 1))\n",
    "\n",
    "    validation_results.sort(key=lambda el: el[-1])\n",
    "\n",
    "    best_k = validation_results[0][0]\n",
    "    print('\\nBest k = ', best_k)\n",
    "    predict_list = predict(train, test, best_k)\n",
    "    errors = get_errors(test, predict_list)\n",
    "    print('\\nPercent of error with the best k on test set : ', errors * 100, '%')\n",
    "\n",
    "main()\n",
    "plt.show()"
   ]
  },
  {
   "cell_type": "code",
   "execution_count": null,
   "metadata": {},
   "outputs": [],
   "source": [
    ""
   ]
  }
 ],
 "metadata": {
  "kernelspec": {
   "display_name": "Python 2",
   "language": "python",
   "name": "python2"
  },
  "language_info": {
   "codemirror_mode": {
    "name": "ipython",
    "version": 2.0
   },
   "file_extension": ".py",
   "mimetype": "text/x-python",
   "name": "python",
   "nbconvert_exporter": "python",
   "pygments_lexer": "ipython2",
   "version": "2.7.6"
  }
 },
 "nbformat": 4,
 "nbformat_minor": 0
}